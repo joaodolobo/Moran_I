{
 "cells": [
  {
   "cell_type": "code",
   "execution_count": 1,
   "metadata": {},
   "outputs": [
    {
     "name": "stderr",
     "output_type": "stream",
     "text": [
      "C:\\Users\\jwolf\\AppData\\Local\\conda\\conda\\envs\\pandas\\lib\\site-packages\\pysal\\model\\spvcm\\abstracts.py:10: UserWarning: The `dill` module is required to use the sqlite backend fully.\n",
      "  from .sqlite import head_to_sql, start_sql\n"
     ]
    }
   ],
   "source": [
    "import os\n",
    "import pysal as ps \n",
    "import pandas as pd \n",
    "import numpy as np\n",
    "import geopandas as gpd\n",
    "import matplotlib.pyplot as plt\n",
    "import pysal.lib\n",
    "import pysal.explore\n",
    "import pysal.viz\n",
    "import pysal.model"
   ]
  },
  {
   "cell_type": "code",
   "execution_count": 2,
   "metadata": {},
   "outputs": [],
   "source": [
    "os.chdir('C:/Users/jwolf/Documents/MEGA/03_Doutoramento/06_Base de dados/School closure')"
   ]
  },
  {
   "cell_type": "code",
   "execution_count": 19,
   "metadata": {},
   "outputs": [],
   "source": [
    "path = \"C:/Users/jwolf/Documents/MEGA/03_Doutoramento/05_SIG/Administrativos/Freguesias/Cont_AAD_CAOP2018/\\\n",
    "Cont_AAD_CAOP2018.shp\"\n",
    "gdf_freguesias_CAOP2018 = gpd.read_file (path)"
   ]
  },
  {
   "cell_type": "code",
   "execution_count": 18,
   "metadata": {},
   "outputs": [
    {
     "data": {
      "text/html": [
       "<div>\n",
       "<style scoped>\n",
       "    .dataframe tbody tr th:only-of-type {\n",
       "        vertical-align: middle;\n",
       "    }\n",
       "\n",
       "    .dataframe tbody tr th {\n",
       "        vertical-align: top;\n",
       "    }\n",
       "\n",
       "    .dataframe thead th {\n",
       "        text-align: right;\n",
       "    }\n",
       "</style>\n",
       "<table border=\"1\" class=\"dataframe\">\n",
       "  <thead>\n",
       "    <tr style=\"text-align: right;\">\n",
       "      <th></th>\n",
       "      <th>Dicofre</th>\n",
       "      <th>Freguesia</th>\n",
       "      <th>Concelho</th>\n",
       "      <th>Distrito</th>\n",
       "      <th>TAA</th>\n",
       "      <th>AREA_EA_Ha</th>\n",
       "      <th>AREA_T_Ha</th>\n",
       "      <th>Des_Simpli</th>\n",
       "      <th>geometry</th>\n",
       "    </tr>\n",
       "  </thead>\n",
       "  <tbody>\n",
       "    <tr>\n",
       "      <th>0</th>\n",
       "      <td>081504</td>\n",
       "      <td>Sagres</td>\n",
       "      <td>VILA DO BISPO</td>\n",
       "      <td>FARO</td>\n",
       "      <td>ÁREA PRINCIPAL</td>\n",
       "      <td>0.04</td>\n",
       "      <td>3436.91</td>\n",
       "      <td>Sagres</td>\n",
       "      <td>POLYGON ((-69674.53039999958 -294276.293899999...</td>\n",
       "    </tr>\n",
       "    <tr>\n",
       "      <th>1</th>\n",
       "      <td>081504</td>\n",
       "      <td>Sagres</td>\n",
       "      <td>VILA DO BISPO</td>\n",
       "      <td>FARO</td>\n",
       "      <td>ÁREA PRINCIPAL</td>\n",
       "      <td>0.17</td>\n",
       "      <td>3436.91</td>\n",
       "      <td>Sagres</td>\n",
       "      <td>POLYGON ((-69645.82100000046 -294240.6941, -69...</td>\n",
       "    </tr>\n",
       "    <tr>\n",
       "      <th>2</th>\n",
       "      <td>081504</td>\n",
       "      <td>Sagres</td>\n",
       "      <td>VILA DO BISPO</td>\n",
       "      <td>FARO</td>\n",
       "      <td>ÁREA PRINCIPAL</td>\n",
       "      <td>0.20</td>\n",
       "      <td>3436.91</td>\n",
       "      <td>Sagres</td>\n",
       "      <td>POLYGON ((-69720.37119999994 -294162.9945, -69...</td>\n",
       "    </tr>\n",
       "  </tbody>\n",
       "</table>\n",
       "</div>"
      ],
      "text/plain": [
       "  Dicofre Freguesia       Concelho Distrito             TAA  AREA_EA_Ha  \\\n",
       "0  081504    Sagres  VILA DO BISPO     FARO  ÁREA PRINCIPAL        0.04   \n",
       "1  081504    Sagres  VILA DO BISPO     FARO  ÁREA PRINCIPAL        0.17   \n",
       "2  081504    Sagres  VILA DO BISPO     FARO  ÁREA PRINCIPAL        0.20   \n",
       "\n",
       "   AREA_T_Ha Des_Simpli                                           geometry  \n",
       "0    3436.91     Sagres  POLYGON ((-69674.53039999958 -294276.293899999...  \n",
       "1    3436.91     Sagres  POLYGON ((-69645.82100000046 -294240.6941, -69...  \n",
       "2    3436.91     Sagres  POLYGON ((-69720.37119999994 -294162.9945, -69...  "
      ]
     },
     "execution_count": 18,
     "metadata": {},
     "output_type": "execute_result"
    }
   ],
   "source": [
    "gdf_freguesias_CAOP2018.head(3)"
   ]
  },
  {
   "cell_type": "code",
   "execution_count": 15,
   "metadata": {},
   "outputs": [
    {
     "ename": "OSError",
     "evalue": "no such file or directory: 'C:/Users/jwolf/Documents/MEGA/03_Doutoramento/05_SIG/Administrativos/Freguesias/Cont_AAD_CAOP2018/Cont_AAD_CAOP2018.shp'",
     "output_type": "error",
     "traceback": [
      "\u001b[1;31m---------------------------------------------------------------------------\u001b[0m",
      "\u001b[1;31mOSError\u001b[0m                                   Traceback (most recent call last)",
      "\u001b[1;32m<ipython-input-15-736f8b83d8c5>\u001b[0m in \u001b[0;36m<module>\u001b[1;34m()\u001b[0m\n\u001b[1;32m----> 1\u001b[1;33m \u001b[0mgdf_freguesias_CAOP2018\u001b[0m \u001b[1;33m=\u001b[0m \u001b[0mgpd\u001b[0m\u001b[1;33m.\u001b[0m\u001b[0mread_file\u001b[0m \u001b[1;33m(\u001b[0m\u001b[0mpath\u001b[0m\u001b[1;33m)\u001b[0m\u001b[1;33m\u001b[0m\u001b[0m\n\u001b[0m\u001b[0;32m      2\u001b[0m \u001b[0mgdf_freguesias_CAOP2018\u001b[0m\u001b[1;33m[\u001b[0m\u001b[1;34m'code_mun'\u001b[0m\u001b[1;33m]\u001b[0m \u001b[1;33m=\u001b[0m \u001b[0mgdf_freguesias_CAOP2018\u001b[0m\u001b[1;33m[\u001b[0m\u001b[1;34m'Dicofre'\u001b[0m\u001b[1;33m]\u001b[0m\u001b[1;33m.\u001b[0m\u001b[0mstr\u001b[0m\u001b[1;33m.\u001b[0m\u001b[0mslice\u001b[0m\u001b[1;33m(\u001b[0m\u001b[1;36m0\u001b[0m\u001b[1;33m,\u001b[0m\u001b[1;36m4\u001b[0m\u001b[1;33m)\u001b[0m\u001b[1;33m\u001b[0m\u001b[0m\n",
      "\u001b[1;32m~\\AppData\\Local\\conda\\conda\\envs\\pandas\\lib\\site-packages\\geopandas\\io\\file.py\u001b[0m in \u001b[0;36mread_file\u001b[1;34m(filename, bbox, **kwargs)\u001b[0m\n\u001b[0;32m     69\u001b[0m \u001b[1;33m\u001b[0m\u001b[0m\n\u001b[0;32m     70\u001b[0m     \u001b[1;32mwith\u001b[0m \u001b[0mfiona_env\u001b[0m\u001b[1;33m(\u001b[0m\u001b[1;33m)\u001b[0m\u001b[1;33m:\u001b[0m\u001b[1;33m\u001b[0m\u001b[0m\n\u001b[1;32m---> 71\u001b[1;33m         \u001b[1;32mwith\u001b[0m \u001b[0mreader\u001b[0m\u001b[1;33m(\u001b[0m\u001b[0mpath_or_bytes\u001b[0m\u001b[1;33m,\u001b[0m \u001b[1;33m**\u001b[0m\u001b[0mkwargs\u001b[0m\u001b[1;33m)\u001b[0m \u001b[1;32mas\u001b[0m \u001b[0mfeatures\u001b[0m\u001b[1;33m:\u001b[0m\u001b[1;33m\u001b[0m\u001b[0m\n\u001b[0m\u001b[0;32m     72\u001b[0m             \u001b[0mcrs\u001b[0m \u001b[1;33m=\u001b[0m \u001b[0mfeatures\u001b[0m\u001b[1;33m.\u001b[0m\u001b[0mcrs\u001b[0m\u001b[1;33m\u001b[0m\u001b[0m\n\u001b[0;32m     73\u001b[0m             \u001b[1;32mif\u001b[0m \u001b[0mbbox\u001b[0m \u001b[1;32mis\u001b[0m \u001b[1;32mnot\u001b[0m \u001b[1;32mNone\u001b[0m\u001b[1;33m:\u001b[0m\u001b[1;33m\u001b[0m\u001b[0m\n",
      "\u001b[1;32m~\\AppData\\Local\\conda\\conda\\envs\\pandas\\lib\\site-packages\\fiona\\__init__.py\u001b[0m in \u001b[0;36mopen\u001b[1;34m(path, mode, driver, schema, crs, encoding, layer, vfs, enabled_drivers, crs_wkt)\u001b[0m\n\u001b[0;32m    160\u001b[0m                 \u001b[1;32mraise\u001b[0m \u001b[0mIOError\u001b[0m\u001b[1;33m(\u001b[0m\u001b[1;34m\"no such archive file: %r\"\u001b[0m \u001b[1;33m%\u001b[0m \u001b[0marchive\u001b[0m\u001b[1;33m)\u001b[0m\u001b[1;33m\u001b[0m\u001b[0m\n\u001b[0;32m    161\u001b[0m         \u001b[1;32melif\u001b[0m \u001b[0mpath\u001b[0m \u001b[1;33m!=\u001b[0m \u001b[1;34m'-'\u001b[0m \u001b[1;32mand\u001b[0m \u001b[1;32mnot\u001b[0m \u001b[0mos\u001b[0m\u001b[1;33m.\u001b[0m\u001b[0mpath\u001b[0m\u001b[1;33m.\u001b[0m\u001b[0mexists\u001b[0m\u001b[1;33m(\u001b[0m\u001b[0mpath\u001b[0m\u001b[1;33m)\u001b[0m\u001b[1;33m:\u001b[0m\u001b[1;33m\u001b[0m\u001b[0m\n\u001b[1;32m--> 162\u001b[1;33m             \u001b[1;32mraise\u001b[0m \u001b[0mIOError\u001b[0m\u001b[1;33m(\u001b[0m\u001b[1;34m\"no such file or directory: %r\"\u001b[0m \u001b[1;33m%\u001b[0m \u001b[0mpath\u001b[0m\u001b[1;33m)\u001b[0m\u001b[1;33m\u001b[0m\u001b[0m\n\u001b[0m\u001b[0;32m    163\u001b[0m         c = Collection(path, mode, driver=driver, encoding=encoding,\n\u001b[0;32m    164\u001b[0m                        \u001b[0mlayer\u001b[0m\u001b[1;33m=\u001b[0m\u001b[0mlayer\u001b[0m\u001b[1;33m,\u001b[0m \u001b[0mvsi\u001b[0m\u001b[1;33m=\u001b[0m\u001b[0mvsi\u001b[0m\u001b[1;33m,\u001b[0m \u001b[0marchive\u001b[0m\u001b[1;33m=\u001b[0m\u001b[0marchive\u001b[0m\u001b[1;33m,\u001b[0m\u001b[1;33m\u001b[0m\u001b[0m\n",
      "\u001b[1;31mOSError\u001b[0m: no such file or directory: 'C:/Users/jwolf/Documents/MEGA/03_Doutoramento/05_SIG/Administrativos/Freguesias/Cont_AAD_CAOP2018/Cont_AAD_CAOP2018.shp'"
     ]
    }
   ],
   "source": [
    "\n",
    "gdf_freguesias_CAOP2018['code_mun'] = gdf_freguesias_CAOP2018['Dicofre'].str.slice(0,4)"
   ]
  },
  {
   "cell_type": "code",
   "execution_count": 4,
   "metadata": {},
   "outputs": [],
   "source": [
    "df_correspond_nuts3 = pd.read_csv(\"CODIGOS_MUNICIPIOS_NUTS3.csv\",engine='python', header = 0,\\\n",
    "                                  sep = \";\",dtype= {'Cod_mun': str}, decimal=\",\")\n",
    "df_correspond_nuts3.dropna(inplace = True)"
   ]
  },
  {
   "cell_type": "code",
   "execution_count": 5,
   "metadata": {},
   "outputs": [],
   "source": [
    "# pd.merge(gdf_freguesias_CAOP2018, df_correspond_nuts3, how = left,  left_on = \"code_mun\")\n",
    "gdf_freguesias_CAOP2018= pd.merge(gdf_freguesias_CAOP2018, df_correspond_nuts3, how='left', left_on = \"code_mun\",right_on= \"Cod_mun\")\n",
    "gdf_freguesias_CAOP2018.drop(['Cod_mun'], axis=1, inplace = True)"
   ]
  },
  {
   "cell_type": "code",
   "execution_count": 6,
   "metadata": {},
   "outputs": [],
   "source": [
    "#3763 código epsg etrs89 e Portugal TM06\n",
    "#WGS84 = epsg 4326\n",
    "\n",
    "gdf_freguesias_CAOP2018 = gdf_freguesias_CAOP2018.to_crs(epsg=3763)\n"
   ]
  },
  {
   "cell_type": "code",
   "execution_count": 20,
   "metadata": {},
   "outputs": [
    {
     "data": {
      "text/html": [
       "<div>\n",
       "<style scoped>\n",
       "    .dataframe tbody tr th:only-of-type {\n",
       "        vertical-align: middle;\n",
       "    }\n",
       "\n",
       "    .dataframe tbody tr th {\n",
       "        vertical-align: top;\n",
       "    }\n",
       "\n",
       "    .dataframe thead th {\n",
       "        text-align: right;\n",
       "    }\n",
       "</style>\n",
       "<table border=\"1\" class=\"dataframe\">\n",
       "  <thead>\n",
       "    <tr style=\"text-align: right;\">\n",
       "      <th></th>\n",
       "      <th>Dicofre</th>\n",
       "      <th>Freguesia</th>\n",
       "      <th>Concelho</th>\n",
       "      <th>Distrito</th>\n",
       "      <th>TAA</th>\n",
       "      <th>AREA_EA_Ha</th>\n",
       "      <th>AREA_T_Ha</th>\n",
       "      <th>Des_Simpli</th>\n",
       "      <th>geometry</th>\n",
       "    </tr>\n",
       "  </thead>\n",
       "  <tbody>\n",
       "    <tr>\n",
       "      <th>0</th>\n",
       "      <td>081504</td>\n",
       "      <td>Sagres</td>\n",
       "      <td>VILA DO BISPO</td>\n",
       "      <td>FARO</td>\n",
       "      <td>ÁREA PRINCIPAL</td>\n",
       "      <td>0.04</td>\n",
       "      <td>3436.91</td>\n",
       "      <td>Sagres</td>\n",
       "      <td>POLYGON ((-69674.53039999958 -294276.293899999...</td>\n",
       "    </tr>\n",
       "    <tr>\n",
       "      <th>1</th>\n",
       "      <td>081504</td>\n",
       "      <td>Sagres</td>\n",
       "      <td>VILA DO BISPO</td>\n",
       "      <td>FARO</td>\n",
       "      <td>ÁREA PRINCIPAL</td>\n",
       "      <td>0.17</td>\n",
       "      <td>3436.91</td>\n",
       "      <td>Sagres</td>\n",
       "      <td>POLYGON ((-69645.82100000046 -294240.6941, -69...</td>\n",
       "    </tr>\n",
       "    <tr>\n",
       "      <th>2</th>\n",
       "      <td>081504</td>\n",
       "      <td>Sagres</td>\n",
       "      <td>VILA DO BISPO</td>\n",
       "      <td>FARO</td>\n",
       "      <td>ÁREA PRINCIPAL</td>\n",
       "      <td>0.20</td>\n",
       "      <td>3436.91</td>\n",
       "      <td>Sagres</td>\n",
       "      <td>POLYGON ((-69720.37119999994 -294162.9945, -69...</td>\n",
       "    </tr>\n",
       "    <tr>\n",
       "      <th>3</th>\n",
       "      <td>081504</td>\n",
       "      <td>Sagres</td>\n",
       "      <td>VILA DO BISPO</td>\n",
       "      <td>FARO</td>\n",
       "      <td>ÁREA PRINCIPAL</td>\n",
       "      <td>0.09</td>\n",
       "      <td>3436.91</td>\n",
       "      <td>Sagres</td>\n",
       "      <td>POLYGON ((-70031.9606999997 -294143.8773999996...</td>\n",
       "    </tr>\n",
       "  </tbody>\n",
       "</table>\n",
       "</div>"
      ],
      "text/plain": [
       "  Dicofre Freguesia       Concelho Distrito             TAA  AREA_EA_Ha  \\\n",
       "0  081504    Sagres  VILA DO BISPO     FARO  ÁREA PRINCIPAL        0.04   \n",
       "1  081504    Sagres  VILA DO BISPO     FARO  ÁREA PRINCIPAL        0.17   \n",
       "2  081504    Sagres  VILA DO BISPO     FARO  ÁREA PRINCIPAL        0.20   \n",
       "3  081504    Sagres  VILA DO BISPO     FARO  ÁREA PRINCIPAL        0.09   \n",
       "\n",
       "   AREA_T_Ha Des_Simpli                                           geometry  \n",
       "0    3436.91     Sagres  POLYGON ((-69674.53039999958 -294276.293899999...  \n",
       "1    3436.91     Sagres  POLYGON ((-69645.82100000046 -294240.6941, -69...  \n",
       "2    3436.91     Sagres  POLYGON ((-69720.37119999994 -294162.9945, -69...  \n",
       "3    3436.91     Sagres  POLYGON ((-70031.9606999997 -294143.8773999996...  "
      ]
     },
     "execution_count": 20,
     "metadata": {},
     "output_type": "execute_result"
    }
   ],
   "source": [
    "gdf_freguesias_CAOP2018.head(4)"
   ]
  },
  {
   "cell_type": "code",
   "execution_count": 7,
   "metadata": {},
   "outputs": [
    {
     "ename": "KeyboardInterrupt",
     "evalue": "",
     "output_type": "error",
     "traceback": [
      "\u001b[1;31m---------------------------------------------------------------------------\u001b[0m",
      "\u001b[1;31mKeyboardInterrupt\u001b[0m                         Traceback (most recent call last)",
      "\u001b[1;32m<ipython-input-7-2f9ba48a7234>\u001b[0m in \u001b[0;36m<module>\u001b[1;34m()\u001b[0m\n\u001b[1;32m----> 1\u001b[1;33m \u001b[0mgdf_municipios_CAOP2018\u001b[0m \u001b[1;33m=\u001b[0m \u001b[0mgdf_freguesias_CAOP2018\u001b[0m\u001b[1;33m.\u001b[0m\u001b[0mdissolve\u001b[0m\u001b[1;33m(\u001b[0m\u001b[0mby\u001b[0m\u001b[1;33m=\u001b[0m\u001b[1;34m'code_mun'\u001b[0m\u001b[1;33m)\u001b[0m\u001b[1;33m\u001b[0m\u001b[0m\n\u001b[0m\u001b[0;32m      2\u001b[0m \u001b[0mgdf_municipios_CAOP2018\u001b[0m\u001b[1;33m.\u001b[0m\u001b[0mdrop\u001b[0m\u001b[1;33m(\u001b[0m\u001b[1;33m[\u001b[0m\u001b[1;34m'Dicofre'\u001b[0m\u001b[1;33m,\u001b[0m\u001b[1;34m'Freguesia'\u001b[0m\u001b[1;33m,\u001b[0m \u001b[1;34m'Des_Simpli'\u001b[0m\u001b[1;33m,\u001b[0m \u001b[1;34m'TAA'\u001b[0m\u001b[1;33m]\u001b[0m\u001b[1;33m,\u001b[0m \u001b[0maxis\u001b[0m \u001b[1;33m=\u001b[0m \u001b[1;36m1\u001b[0m\u001b[1;33m,\u001b[0m \u001b[0minplace\u001b[0m \u001b[1;33m=\u001b[0m \u001b[1;32mTrue\u001b[0m\u001b[1;33m)\u001b[0m\u001b[1;33m\u001b[0m\u001b[0m\n",
      "\u001b[1;32m~\\AppData\\Local\\conda\\conda\\envs\\pandas\\lib\\site-packages\\geopandas\\geodataframe.py\u001b[0m in \u001b[0;36mdissolve\u001b[1;34m(self, by, aggfunc, as_index)\u001b[0m\n\u001b[0;32m    571\u001b[0m             \u001b[1;32mreturn\u001b[0m \u001b[0mmerged_geom\u001b[0m\u001b[1;33m\u001b[0m\u001b[0m\n\u001b[0;32m    572\u001b[0m \u001b[1;33m\u001b[0m\u001b[0m\n\u001b[1;32m--> 573\u001b[1;33m         \u001b[0mg\u001b[0m \u001b[1;33m=\u001b[0m \u001b[0mself\u001b[0m\u001b[1;33m.\u001b[0m\u001b[0mgroupby\u001b[0m\u001b[1;33m(\u001b[0m\u001b[0mby\u001b[0m\u001b[1;33m=\u001b[0m\u001b[0mby\u001b[0m\u001b[1;33m,\u001b[0m \u001b[0mgroup_keys\u001b[0m\u001b[1;33m=\u001b[0m\u001b[1;32mFalse\u001b[0m\u001b[1;33m)\u001b[0m\u001b[1;33m[\u001b[0m\u001b[0mself\u001b[0m\u001b[1;33m.\u001b[0m\u001b[0mgeometry\u001b[0m\u001b[1;33m.\u001b[0m\u001b[0mname\u001b[0m\u001b[1;33m]\u001b[0m\u001b[1;33m.\u001b[0m\u001b[0magg\u001b[0m\u001b[1;33m(\u001b[0m\u001b[0mmerge_geometries\u001b[0m\u001b[1;33m)\u001b[0m\u001b[1;33m\u001b[0m\u001b[0m\n\u001b[0m\u001b[0;32m    574\u001b[0m \u001b[1;33m\u001b[0m\u001b[0m\n\u001b[0;32m    575\u001b[0m         \u001b[1;31m# Aggregate\u001b[0m\u001b[1;33m\u001b[0m\u001b[1;33m\u001b[0m\u001b[0m\n",
      "\u001b[1;32m~\\AppData\\Local\\conda\\conda\\envs\\pandas\\lib\\site-packages\\pandas\\core\\groupby\\groupby.py\u001b[0m in \u001b[0;36maggregate\u001b[1;34m(self, func_or_funcs, *args, **kwargs)\u001b[0m\n\u001b[0;32m   3493\u001b[0m \u001b[1;33m\u001b[0m\u001b[0m\n\u001b[0;32m   3494\u001b[0m             \u001b[1;32mtry\u001b[0m\u001b[1;33m:\u001b[0m\u001b[1;33m\u001b[0m\u001b[0m\n\u001b[1;32m-> 3495\u001b[1;33m                 \u001b[1;32mreturn\u001b[0m \u001b[0mself\u001b[0m\u001b[1;33m.\u001b[0m\u001b[0m_python_agg_general\u001b[0m\u001b[1;33m(\u001b[0m\u001b[0mfunc_or_funcs\u001b[0m\u001b[1;33m,\u001b[0m \u001b[1;33m*\u001b[0m\u001b[0margs\u001b[0m\u001b[1;33m,\u001b[0m \u001b[1;33m**\u001b[0m\u001b[0mkwargs\u001b[0m\u001b[1;33m)\u001b[0m\u001b[1;33m\u001b[0m\u001b[0m\n\u001b[0m\u001b[0;32m   3496\u001b[0m             \u001b[1;32mexcept\u001b[0m \u001b[0mException\u001b[0m\u001b[1;33m:\u001b[0m\u001b[1;33m\u001b[0m\u001b[0m\n\u001b[0;32m   3497\u001b[0m                 \u001b[0mresult\u001b[0m \u001b[1;33m=\u001b[0m \u001b[0mself\u001b[0m\u001b[1;33m.\u001b[0m\u001b[0m_aggregate_named\u001b[0m\u001b[1;33m(\u001b[0m\u001b[0mfunc_or_funcs\u001b[0m\u001b[1;33m,\u001b[0m \u001b[1;33m*\u001b[0m\u001b[0margs\u001b[0m\u001b[1;33m,\u001b[0m \u001b[1;33m**\u001b[0m\u001b[0mkwargs\u001b[0m\u001b[1;33m)\u001b[0m\u001b[1;33m\u001b[0m\u001b[0m\n",
      "\u001b[1;32m~\\AppData\\Local\\conda\\conda\\envs\\pandas\\lib\\site-packages\\pandas\\core\\groupby\\groupby.py\u001b[0m in \u001b[0;36m_python_agg_general\u001b[1;34m(self, func, *args, **kwargs)\u001b[0m\n\u001b[0;32m   1066\u001b[0m         \u001b[1;32mfor\u001b[0m \u001b[0mname\u001b[0m\u001b[1;33m,\u001b[0m \u001b[0mobj\u001b[0m \u001b[1;32min\u001b[0m \u001b[0mself\u001b[0m\u001b[1;33m.\u001b[0m\u001b[0m_iterate_slices\u001b[0m\u001b[1;33m(\u001b[0m\u001b[1;33m)\u001b[0m\u001b[1;33m:\u001b[0m\u001b[1;33m\u001b[0m\u001b[0m\n\u001b[0;32m   1067\u001b[0m             \u001b[1;32mtry\u001b[0m\u001b[1;33m:\u001b[0m\u001b[1;33m\u001b[0m\u001b[0m\n\u001b[1;32m-> 1068\u001b[1;33m                 \u001b[0mresult\u001b[0m\u001b[1;33m,\u001b[0m \u001b[0mcounts\u001b[0m \u001b[1;33m=\u001b[0m \u001b[0mself\u001b[0m\u001b[1;33m.\u001b[0m\u001b[0mgrouper\u001b[0m\u001b[1;33m.\u001b[0m\u001b[0magg_series\u001b[0m\u001b[1;33m(\u001b[0m\u001b[0mobj\u001b[0m\u001b[1;33m,\u001b[0m \u001b[0mf\u001b[0m\u001b[1;33m)\u001b[0m\u001b[1;33m\u001b[0m\u001b[0m\n\u001b[0m\u001b[0;32m   1069\u001b[0m                 \u001b[0moutput\u001b[0m\u001b[1;33m[\u001b[0m\u001b[0mname\u001b[0m\u001b[1;33m]\u001b[0m \u001b[1;33m=\u001b[0m \u001b[0mself\u001b[0m\u001b[1;33m.\u001b[0m\u001b[0m_try_cast\u001b[0m\u001b[1;33m(\u001b[0m\u001b[0mresult\u001b[0m\u001b[1;33m,\u001b[0m \u001b[0mobj\u001b[0m\u001b[1;33m,\u001b[0m \u001b[0mnumeric_only\u001b[0m\u001b[1;33m=\u001b[0m\u001b[1;32mTrue\u001b[0m\u001b[1;33m)\u001b[0m\u001b[1;33m\u001b[0m\u001b[0m\n\u001b[0;32m   1070\u001b[0m             \u001b[1;32mexcept\u001b[0m \u001b[0mTypeError\u001b[0m\u001b[1;33m:\u001b[0m\u001b[1;33m\u001b[0m\u001b[0m\n",
      "\u001b[1;32m~\\AppData\\Local\\conda\\conda\\envs\\pandas\\lib\\site-packages\\pandas\\core\\groupby\\groupby.py\u001b[0m in \u001b[0;36magg_series\u001b[1;34m(self, obj, func)\u001b[0m\n\u001b[0;32m   2668\u001b[0m     \u001b[1;32mdef\u001b[0m \u001b[0magg_series\u001b[0m\u001b[1;33m(\u001b[0m\u001b[0mself\u001b[0m\u001b[1;33m,\u001b[0m \u001b[0mobj\u001b[0m\u001b[1;33m,\u001b[0m \u001b[0mfunc\u001b[0m\u001b[1;33m)\u001b[0m\u001b[1;33m:\u001b[0m\u001b[1;33m\u001b[0m\u001b[0m\n\u001b[0;32m   2669\u001b[0m         \u001b[1;32mtry\u001b[0m\u001b[1;33m:\u001b[0m\u001b[1;33m\u001b[0m\u001b[0m\n\u001b[1;32m-> 2670\u001b[1;33m             \u001b[1;32mreturn\u001b[0m \u001b[0mself\u001b[0m\u001b[1;33m.\u001b[0m\u001b[0m_aggregate_series_fast\u001b[0m\u001b[1;33m(\u001b[0m\u001b[0mobj\u001b[0m\u001b[1;33m,\u001b[0m \u001b[0mfunc\u001b[0m\u001b[1;33m)\u001b[0m\u001b[1;33m\u001b[0m\u001b[0m\n\u001b[0m\u001b[0;32m   2671\u001b[0m         \u001b[1;32mexcept\u001b[0m \u001b[0mException\u001b[0m\u001b[1;33m:\u001b[0m\u001b[1;33m\u001b[0m\u001b[0m\n\u001b[0;32m   2672\u001b[0m             \u001b[1;32mreturn\u001b[0m \u001b[0mself\u001b[0m\u001b[1;33m.\u001b[0m\u001b[0m_aggregate_series_pure_python\u001b[0m\u001b[1;33m(\u001b[0m\u001b[0mobj\u001b[0m\u001b[1;33m,\u001b[0m \u001b[0mfunc\u001b[0m\u001b[1;33m)\u001b[0m\u001b[1;33m\u001b[0m\u001b[0m\n",
      "\u001b[1;32m~\\AppData\\Local\\conda\\conda\\envs\\pandas\\lib\\site-packages\\pandas\\core\\groupby\\groupby.py\u001b[0m in \u001b[0;36m_aggregate_series_fast\u001b[1;34m(self, obj, func)\u001b[0m\n\u001b[0;32m   2688\u001b[0m         grouper = reduction.SeriesGrouper(obj, func, group_index, ngroups,\n\u001b[0;32m   2689\u001b[0m                                           dummy)\n\u001b[1;32m-> 2690\u001b[1;33m         \u001b[0mresult\u001b[0m\u001b[1;33m,\u001b[0m \u001b[0mcounts\u001b[0m \u001b[1;33m=\u001b[0m \u001b[0mgrouper\u001b[0m\u001b[1;33m.\u001b[0m\u001b[0mget_result\u001b[0m\u001b[1;33m(\u001b[0m\u001b[1;33m)\u001b[0m\u001b[1;33m\u001b[0m\u001b[0m\n\u001b[0m\u001b[0;32m   2691\u001b[0m         \u001b[1;32mreturn\u001b[0m \u001b[0mresult\u001b[0m\u001b[1;33m,\u001b[0m \u001b[0mcounts\u001b[0m\u001b[1;33m\u001b[0m\u001b[0m\n\u001b[0;32m   2692\u001b[0m \u001b[1;33m\u001b[0m\u001b[0m\n",
      "\u001b[1;32mpandas/_libs/reduction.pyx\u001b[0m in \u001b[0;36mpandas._libs.reduction.SeriesGrouper.get_result\u001b[1;34m()\u001b[0m\n",
      "\u001b[1;32mpandas/_libs/reduction.pyx\u001b[0m in \u001b[0;36mpandas._libs.reduction.SeriesGrouper.get_result\u001b[1;34m()\u001b[0m\n",
      "\u001b[1;32m~\\AppData\\Local\\conda\\conda\\envs\\pandas\\lib\\site-packages\\pandas\\core\\groupby\\groupby.py\u001b[0m in \u001b[0;36m<lambda>\u001b[1;34m(x)\u001b[0m\n\u001b[0;32m   1060\u001b[0m     \u001b[1;32mdef\u001b[0m \u001b[0m_python_agg_general\u001b[0m\u001b[1;33m(\u001b[0m\u001b[0mself\u001b[0m\u001b[1;33m,\u001b[0m \u001b[0mfunc\u001b[0m\u001b[1;33m,\u001b[0m \u001b[1;33m*\u001b[0m\u001b[0margs\u001b[0m\u001b[1;33m,\u001b[0m \u001b[1;33m**\u001b[0m\u001b[0mkwargs\u001b[0m\u001b[1;33m)\u001b[0m\u001b[1;33m:\u001b[0m\u001b[1;33m\u001b[0m\u001b[0m\n\u001b[0;32m   1061\u001b[0m         \u001b[0mfunc\u001b[0m \u001b[1;33m=\u001b[0m \u001b[0mself\u001b[0m\u001b[1;33m.\u001b[0m\u001b[0m_is_builtin_func\u001b[0m\u001b[1;33m(\u001b[0m\u001b[0mfunc\u001b[0m\u001b[1;33m)\u001b[0m\u001b[1;33m\u001b[0m\u001b[0m\n\u001b[1;32m-> 1062\u001b[1;33m         \u001b[0mf\u001b[0m \u001b[1;33m=\u001b[0m \u001b[1;32mlambda\u001b[0m \u001b[0mx\u001b[0m\u001b[1;33m:\u001b[0m \u001b[0mfunc\u001b[0m\u001b[1;33m(\u001b[0m\u001b[0mx\u001b[0m\u001b[1;33m,\u001b[0m \u001b[1;33m*\u001b[0m\u001b[0margs\u001b[0m\u001b[1;33m,\u001b[0m \u001b[1;33m**\u001b[0m\u001b[0mkwargs\u001b[0m\u001b[1;33m)\u001b[0m\u001b[1;33m\u001b[0m\u001b[0m\n\u001b[0m\u001b[0;32m   1063\u001b[0m \u001b[1;33m\u001b[0m\u001b[0m\n\u001b[0;32m   1064\u001b[0m         \u001b[1;31m# iterate through \"columns\" ex exclusions to populate output dict\u001b[0m\u001b[1;33m\u001b[0m\u001b[1;33m\u001b[0m\u001b[0m\n",
      "\u001b[1;32m~\\AppData\\Local\\conda\\conda\\envs\\pandas\\lib\\site-packages\\geopandas\\geodataframe.py\u001b[0m in \u001b[0;36mmerge_geometries\u001b[1;34m(block)\u001b[0m\n\u001b[0;32m    568\u001b[0m         \u001b[1;31m# Process spatial component\u001b[0m\u001b[1;33m\u001b[0m\u001b[1;33m\u001b[0m\u001b[0m\n\u001b[0;32m    569\u001b[0m         \u001b[1;32mdef\u001b[0m \u001b[0mmerge_geometries\u001b[0m\u001b[1;33m(\u001b[0m\u001b[0mblock\u001b[0m\u001b[1;33m)\u001b[0m\u001b[1;33m:\u001b[0m\u001b[1;33m\u001b[0m\u001b[0m\n\u001b[1;32m--> 570\u001b[1;33m             \u001b[0mmerged_geom\u001b[0m \u001b[1;33m=\u001b[0m \u001b[0mblock\u001b[0m\u001b[1;33m.\u001b[0m\u001b[0munary_union\u001b[0m\u001b[1;33m\u001b[0m\u001b[0m\n\u001b[0m\u001b[0;32m    571\u001b[0m             \u001b[1;32mreturn\u001b[0m \u001b[0mmerged_geom\u001b[0m\u001b[1;33m\u001b[0m\u001b[0m\n\u001b[0;32m    572\u001b[0m \u001b[1;33m\u001b[0m\u001b[0m\n",
      "\u001b[1;32m~\\AppData\\Local\\conda\\conda\\envs\\pandas\\lib\\site-packages\\geopandas\\base.py\u001b[0m in \u001b[0;36munary_union\u001b[1;34m(self)\u001b[0m\n\u001b[0;32m    234\u001b[0m         \"\"\"Returns a geometry containing the union of all geometries in the\n\u001b[0;32m    235\u001b[0m         ``GeoSeries``.\"\"\"\n\u001b[1;32m--> 236\u001b[1;33m         \u001b[1;32mreturn\u001b[0m \u001b[0munary_union\u001b[0m\u001b[1;33m(\u001b[0m\u001b[0mself\u001b[0m\u001b[1;33m.\u001b[0m\u001b[0mgeometry\u001b[0m\u001b[1;33m.\u001b[0m\u001b[0mvalues\u001b[0m\u001b[1;33m)\u001b[0m\u001b[1;33m\u001b[0m\u001b[0m\n\u001b[0m\u001b[0;32m    237\u001b[0m \u001b[1;33m\u001b[0m\u001b[0m\n\u001b[0;32m    238\u001b[0m     \u001b[1;31m#\u001b[0m\u001b[1;33m\u001b[0m\u001b[1;33m\u001b[0m\u001b[0m\n",
      "\u001b[1;32m~\\AppData\\Local\\conda\\conda\\envs\\pandas\\lib\\site-packages\\shapely\\ops.py\u001b[0m in \u001b[0;36munary_union\u001b[1;34m(self, geoms)\u001b[0m\n\u001b[0;32m    147\u001b[0m             \u001b[0msubs\u001b[0m\u001b[1;33m[\u001b[0m\u001b[0mi\u001b[0m\u001b[1;33m]\u001b[0m \u001b[1;33m=\u001b[0m \u001b[0mg\u001b[0m\u001b[1;33m.\u001b[0m\u001b[0m_geom\u001b[0m\u001b[1;33m\u001b[0m\u001b[0m\n\u001b[0;32m    148\u001b[0m         \u001b[0mcollection\u001b[0m \u001b[1;33m=\u001b[0m \u001b[0mlgeos\u001b[0m\u001b[1;33m.\u001b[0m\u001b[0mGEOSGeom_createCollection\u001b[0m\u001b[1;33m(\u001b[0m\u001b[1;36m6\u001b[0m\u001b[1;33m,\u001b[0m \u001b[0msubs\u001b[0m\u001b[1;33m,\u001b[0m \u001b[0mL\u001b[0m\u001b[1;33m)\u001b[0m\u001b[1;33m\u001b[0m\u001b[0m\n\u001b[1;32m--> 149\u001b[1;33m         \u001b[1;32mreturn\u001b[0m \u001b[0mgeom_factory\u001b[0m\u001b[1;33m(\u001b[0m\u001b[0mlgeos\u001b[0m\u001b[1;33m.\u001b[0m\u001b[0mmethods\u001b[0m\u001b[1;33m[\u001b[0m\u001b[1;34m'unary_union'\u001b[0m\u001b[1;33m]\u001b[0m\u001b[1;33m(\u001b[0m\u001b[0mcollection\u001b[0m\u001b[1;33m)\u001b[0m\u001b[1;33m)\u001b[0m\u001b[1;33m\u001b[0m\u001b[0m\n\u001b[0m\u001b[0;32m    150\u001b[0m \u001b[1;33m\u001b[0m\u001b[0m\n\u001b[0;32m    151\u001b[0m \u001b[0moperator\u001b[0m \u001b[1;33m=\u001b[0m \u001b[0mCollectionOperator\u001b[0m\u001b[1;33m(\u001b[0m\u001b[1;33m)\u001b[0m\u001b[1;33m\u001b[0m\u001b[0m\n",
      "\u001b[1;31mKeyboardInterrupt\u001b[0m: "
     ]
    }
   ],
   "source": [
    "gdf_municipios_CAOP2018 = gdf_freguesias_CAOP2018.dissolve(by='code_mun')\n",
    "gdf_municipios_CAOP2018.drop(['Dicofre','Freguesia', 'Des_Simpli', 'TAA'], axis = 1, inplace = True)"
   ]
  },
  {
   "cell_type": "code",
   "execution_count": null,
   "metadata": {},
   "outputs": [],
   "source": [
    "df_schools = pd.read_csv(\"C:/Users/jwolf/Documents/MEGA/03_Doutoramento/05_SIG/Muhamad/Schools.csv\",\\\n",
    "                         engine='python', header = 0, sep = \";\",dtype= {'Code': str}, decimal=\",\")\n",
    "gdf_municipios_CAOP2018 = pd.merge(gdf_municipios_CAOP2018, df_schools, how='left', left_on=['code_mun'],\\\n",
    "                                   right_on = ['Code'])"
   ]
  },
  {
   "cell_type": "code",
   "execution_count": null,
   "metadata": {},
   "outputs": [],
   "source": [
    "l = []\n",
    "l = list(gdf_municipios_CAOP2018.columns[:9]) + \\\n",
    "[\"Escolas_\" + s  for s in gdf_municipios_CAOP2018.columns[9:24].str.slice(0,4)] +\\\n",
    "list(gdf_municipios_CAOP2018.columns[24:])\n",
    "\n",
    "gdf_municipios_CAOP2018.columns = l"
   ]
  },
  {
   "cell_type": "code",
   "execution_count": null,
   "metadata": {},
   "outputs": [],
   "source": [
    "#gdf_municipios_CAOP2018.columns.get_loc('TX_99_17')"
   ]
  },
  {
   "cell_type": "code",
   "execution_count": null,
   "metadata": {},
   "outputs": [],
   "source": [
    "df_TFR = pd.read_csv(\"C:/Users/jwolf/Documents/MEGA/03_Doutoramento/05_SIG/Muhamad/ISF_2017_pivot.csv\",\\\n",
    "                         engine='python', header = 0, sep = \";\",dtype= {'Code': str}, decimal=\",\")\n",
    "gdf_municipios_CAOP2018 = pd.merge(gdf_municipios_CAOP2018, df_TFR, how='left', left_on=['Code'],\\\n",
    "                                   right_on = ['code'])"
   ]
  },
  {
   "cell_type": "code",
   "execution_count": null,
   "metadata": {},
   "outputs": [],
   "source": [
    "l = []\n",
    "l = list(gdf_municipios_CAOP2018.columns[0:26]) + [\"TFR_\" + s  for s in gdf_municipios_CAOP2018.columns[26:53]]\n",
    "gdf_municipios_CAOP2018.columns = l\n"
   ]
  },
  {
   "cell_type": "code",
   "execution_count": null,
   "metadata": {},
   "outputs": [],
   "source": [
    "df_Migration = pd.read_csv(\"C:/Users/jwolf/Documents/MEGA/03_Doutoramento/05_SIG/Muhamad/MIGRANTS_pivot.csv\",\\\n",
    "                         engine='python', header = 0, sep = \";\",dtype= {'code': str}, decimal=\",\")"
   ]
  },
  {
   "cell_type": "code",
   "execution_count": null,
   "metadata": {},
   "outputs": [],
   "source": [
    "df_Migration.head(3)\n",
    "gdf_municipios_CAOP2018 = pd.merge(gdf_municipios_CAOP2018, df_Migration, how='left', left_on=['Code'],\\\n",
    "                                   right_on = ['code'])"
   ]
  },
  {
   "cell_type": "code",
   "execution_count": null,
   "metadata": {},
   "outputs": [],
   "source": [
    "l = []\n",
    "l = list(gdf_municipios_CAOP2018.columns[:54]) + [\"MIGR_\" + s  for s in gdf_municipios_CAOP2018.columns[54:]]\n",
    "gdf_municipios_CAOP2018.columns = l\n"
   ]
  },
  {
   "cell_type": "code",
   "execution_count": null,
   "metadata": {},
   "outputs": [],
   "source": [
    "col_names = pd.read_csv('C:/Users/jwolf/Documents/MEGA/03_Doutoramento/05_SIG/Muhamad/Primary_Schools_FDM.csv',\\\n",
    "                        nrows=0).columns\n",
    "col_names\n",
    "types_dict = {'Code': str}\n",
    "types_dict.update({col: str for col in col_names if col not in types_dict})\n",
    "\n",
    "df_Schools_FDM = pd.read_csv(\"C:/Users/jwolf/Documents/MEGA/03_Doutoramento/05_SIG/Muhamad/Primary_Schools_FDM.csv\",\\\n",
    "                         engine='python', sep = \";\",dtype=types_dict, decimal=\",\", header=0)\n",
    "\n",
    "df_Schools_FDM"
   ]
  },
  {
   "cell_type": "code",
   "execution_count": null,
   "metadata": {},
   "outputs": [],
   "source": [
    "l = []\n",
    "l = [\"Schools_FDM\" + s  for s in df_Schools_FDM.columns[0:]]\n",
    "df_Schools_FDM.columns = l \n",
    "gdf_municipios_CAOP2018 = pd.merge(gdf_municipios_CAOP2018, df_Schools_FDM, how='left', left_on=['Code'],\\\n",
    "                                  right_on = ['Schools_FDMCode'])"
   ]
  },
  {
   "cell_type": "code",
   "execution_count": null,
   "metadata": {},
   "outputs": [],
   "source": [
    "def Local_moran_I (l, matrizes): \n",
    "    a = {}\n",
    "    for i in l:\n",
    "        key = str(i)\n",
    "        value = pysal.explore.esda.Moran_Local\\\n",
    "        (gdf_municipios_CAOP2018[i], matrizes[1], transformation='r', permutations=999)\n",
    "        a[key] = (matrizes[0],value)\n",
    "    return(a)"
   ]
  },
  {
   "cell_type": "code",
   "execution_count": null,
   "metadata": {},
   "outputs": [],
   "source": [
    "n_vizinhos = 3\n",
    "distancia=30000\n",
    "matrizes = []\n",
    "matrizes = [(\"Queen \"+str(n_vizinhos)+\" neighbours\"),\\\n",
    "            pysal.lib.weights.KNN.from_dataframe(gdf_municipios_CAOP2018, k= n_vizinhos)]\n",
    "\n",
    "#[(\"Distance \"+str(distancia//1000)+'km'),\\\n",
    "#pysal.lib.weights.DistanceBand.from_dataframe(gdf_municipios_CAOP2018, \\\n",
    "#p = 2, alpha=-3, threshold= distancia)] "
   ]
  },
  {
   "cell_type": "code",
   "execution_count": null,
   "metadata": {},
   "outputs": [],
   "source": [
    "from pysal.explore.esda.moran import Moran\n",
    "from pysal.viz.splot.esda import plot_moran\n",
    "l = ['MIGR_1999','MIGR_2017',\n",
    "    'TFR_1999','TFR_2017']\n",
    "\n",
    "moran_I = pysal.explore.esda.Moran(gdf_municipios_CAOP2018['TFR_2017'], matrizes[1], transformation='r', permutations=999)\n",
    "# print(\"p value =\", moran_I.p_norm, \"Moran I = \", moran_I.I,\"expected value under normality assumption\", moran_I.EI) \n",
    "plot_moran(moran_I)\n",
    "plt.show()"
   ]
  },
  {
   "cell_type": "code",
   "execution_count": null,
   "metadata": {},
   "outputs": [],
   "source": [
    "from pysal.viz.splot.esda import lisa_cluster\n",
    "\n",
    "\n",
    "l = ['MIGR_1999','MIGR_2017',\n",
    "    'TFR_1999','TFR_2017']\n",
    "    #'TX_99_17', 'TFR_1997','TFR_2017'\n",
    "a = Local_moran_I(l, matrizes)\n",
    "             \n",
    "fig, axs = plt.subplots(1,len(a),figsize = (20,20))\n",
    "\n",
    "i=0 \n",
    "for x, value in dict.items(a):\n",
    "    legenda = {'loc': 'upper left', 'bbox_to_anchor': (0.8, 0.28),\\\n",
    "    'title': x + '\\n'+ value[0]}\n",
    "    lisa_cluster(value[1], gdf_municipios_CAOP2018.copy(), p=0.1, ax = axs [i], \\\n",
    "    legend_kwds= legenda)\n",
    "    i+=1\n",
    "plt.savefig(\"C:/Users/jwolf/Documents/MEGA/03_Doutoramento/08_Apresentações_publicações/\\\n",
    "Muhammad/TFR_MIGR.png\", dpi=600,  bbox_inches=\"tight\")"
   ]
  },
  {
   "cell_type": "code",
   "execution_count": null,
   "metadata": {},
   "outputs": [],
   "source": [
    "l = ['Escolas_1999', 'Escolas_2016']\n",
    "a = Local_moran_I(l, matrizes)\n",
    "             \n",
    "fig, axs = plt.subplots(1,len(a),figsize = (10,5))\n",
    "\n",
    "i=0 \n",
    "for x, value in dict.items(a):\n",
    "    legenda = {'loc': 'upper left', 'bbox_to_anchor': (0.8, 0.28),\\\n",
    "    'title': x + '\\n'+ value[0]}\n",
    "    lisa_cluster(value[1], gdf_municipios_CAOP2018.copy(), p=0.1, ax = axs [i], \\\n",
    "    legend_kwds= legenda)\n",
    "    i+=1\n"
   ]
  },
  {
   "cell_type": "code",
   "execution_count": null,
   "metadata": {},
   "outputs": [],
   "source": [
    "df_Schools_FDM.head(3)"
   ]
  },
  {
   "cell_type": "code",
   "execution_count": null,
   "metadata": {},
   "outputs": [],
   "source": [
    "l = ['Schools_FDM1999', 'Schools_FDM2015']\n",
    "a = Local_moran_I(l, matrizes)\n",
    "            \n",
    "fig, axs = plt.subplots(1,len(a),figsize = (10,5))\n",
    "i=0 \n",
    "\n",
    "for x, value in dict.items(a):\n",
    "    legenda = {'loc': 'upper left', 'bbox_to_anchor': (0.8, 0.28),\\\n",
    "    'title': x + '\\n'+ value[0]}\n",
    "    lisa_cluster(value[1], gdf_municipios_CAOP2018.copy(), p=0.1, ax = axs [i], \\\n",
    "    legend_kwds= legenda)\n",
    "    i+=1\n",
    "\n",
    "plt.savefig(\"C:/Users/jwolf/Documents/MEGA/03_Doutoramento/08_Apresentações_publicações/\\\n",
    "Muhammad/Primary_Schools_FDM.png\", dpi=600,  bbox_inches=\"tight\")"
   ]
  },
  {
   "cell_type": "code",
   "execution_count": null,
   "metadata": {},
   "outputs": [],
   "source": [
    "gdf_municipios_CAOP2018.head(2)"
   ]
  }
 ],
 "metadata": {
  "kernelspec": {
   "display_name": "Python 3",
   "language": "python",
   "name": "python3"
  },
  "language_info": {
   "codemirror_mode": {
    "name": "ipython",
    "version": 3
   },
   "file_extension": ".py",
   "mimetype": "text/x-python",
   "name": "python",
   "nbconvert_exporter": "python",
   "pygments_lexer": "ipython3",
   "version": "3.6.6"
  }
 },
 "nbformat": 4,
 "nbformat_minor": 2
}
